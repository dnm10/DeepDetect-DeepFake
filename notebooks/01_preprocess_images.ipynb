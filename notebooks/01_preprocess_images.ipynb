{
 "cells": [
  {
   "cell_type": "code",
   "execution_count": null,
   "id": "4e016199",
   "metadata": {},
   "outputs": [
    {
     "name": "stdout",
     "output_type": "stream",
     "text": [
      "✅ Real & Fake data grouped into processed/real and processed/fake\n"
     ]
    }
   ],
   "source": [
    "import os, shutil\n",
    "\n",
    "RAW_DIR = \"../data/raw/images/FaceForensics++_C23\"\n",
    "PROC_DIR = \"../data/processed\"\n",
    "\n",
    "real_dir = os.path.join(RAW_DIR, \"original\")\n",
    "fake_dirs = [\"Deepfakes\", \"Face2Face\", \"FaceShifter\", \"FaceSwap\", \"NeuralTextures\", \"DeepFakeDetection\"]\n",
    "\n",
    "# Make target dirs\n",
    "os.makedirs(os.path.join(PROC_DIR, \"real\"), exist_ok=True)\n",
    "os.makedirs(os.path.join(PROC_DIR, \"fake\"), exist_ok=True)\n",
    "\n",
    "# Copy REAL images\n",
    "for file in os.listdir(real_dir):\n",
    "    src = os.path.join(real_dir, file)\n",
    "    dst = os.path.join(PROC_DIR, \"real\", file)\n",
    "    shutil.copy(src, dst)\n",
    "\n",
    "# Copy FAKE images\n",
    "for folder in fake_dirs:\n",
    "    fpath = os.path.join(RAW_DIR, folder)\n",
    "    for file in os.listdir(fpath):\n",
    "        src = os.path.join(fpath, file)\n",
    "        dst = os.path.join(PROC_DIR, \"fake\", f\"{folder}_{file}\")  # prefix filename\n",
    "        shutil.copy(src, dst)\n",
    "\n",
    "print(\"Real & Fake data grouped into processed/real and processed/fake\")\n"
   ]
  },
  {
   "cell_type": "code",
   "execution_count": null,
   "id": "0188e760",
   "metadata": {},
   "outputs": [],
   "source": []
  }
 ],
 "metadata": {
  "kernelspec": {
   "display_name": "dd_dfenv (3.12.6)",
   "language": "python",
   "name": "python3"
  },
  "language_info": {
   "codemirror_mode": {
    "name": "ipython",
    "version": 3
   },
   "file_extension": ".py",
   "mimetype": "text/x-python",
   "name": "python",
   "nbconvert_exporter": "python",
   "pygments_lexer": "ipython3",
   "version": "3.12.6"
  }
 },
 "nbformat": 4,
 "nbformat_minor": 5
}
