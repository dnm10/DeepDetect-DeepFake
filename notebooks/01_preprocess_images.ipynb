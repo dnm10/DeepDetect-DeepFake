{
 "cells": [
  {
   "cell_type": "code",
   "execution_count": 1,
   "id": "4e016199",
   "metadata": {},
   "outputs": [
    {
     "ename": "FileNotFoundError",
     "evalue": "[WinError 3] The system cannot find the path specified: '../data/raw/images/FaceForensics++_C23\\\\original'",
     "output_type": "error",
     "traceback": [
      "\u001b[31m---------------------------------------------------------------------------\u001b[39m",
      "\u001b[31mFileNotFoundError\u001b[39m                         Traceback (most recent call last)",
      "\u001b[36mCell\u001b[39m\u001b[36m \u001b[39m\u001b[32mIn[1]\u001b[39m\u001b[32m, line 14\u001b[39m\n\u001b[32m     11\u001b[39m os.makedirs(os.path.join(PROC_DIR, \u001b[33m\"\u001b[39m\u001b[33mfake\u001b[39m\u001b[33m\"\u001b[39m), exist_ok=\u001b[38;5;28;01mTrue\u001b[39;00m)\n\u001b[32m     13\u001b[39m \u001b[38;5;66;03m# Copy REAL images\u001b[39;00m\n\u001b[32m---> \u001b[39m\u001b[32m14\u001b[39m \u001b[38;5;28;01mfor\u001b[39;00m file \u001b[38;5;129;01min\u001b[39;00m \u001b[43mos\u001b[49m\u001b[43m.\u001b[49m\u001b[43mlistdir\u001b[49m\u001b[43m(\u001b[49m\u001b[43mreal_dir\u001b[49m\u001b[43m)\u001b[49m:\n\u001b[32m     15\u001b[39m     src = os.path.join(real_dir, file)\n\u001b[32m     16\u001b[39m     dst = os.path.join(PROC_DIR, \u001b[33m\"\u001b[39m\u001b[33mreal\u001b[39m\u001b[33m\"\u001b[39m, file)\n",
      "\u001b[31mFileNotFoundError\u001b[39m: [WinError 3] The system cannot find the path specified: '../data/raw/images/FaceForensics++_C23\\\\original'"
     ]
    }
   ],
   "source": [
    "import os, shutil\n",
    "\n",
    "RAW_DIR = \"../data/raw/images/FaceForensics++_C23\"\n",
    "PROC_DIR = \"../data/processed\"\n",
    "\n",
    "real_dir = os.path.join(RAW_DIR, \"original\")\n",
    "fake_dirs = [\"Deepfakes\", \"Face2Face\", \"FaceShifter\", \"FaceSwap\", \"NeuralTextures\", \"DeepFakeDetection\"]\n",
    "\n",
    "# Make target dirs\n",
    "os.makedirs(os.path.join(PROC_DIR, \"real\"), exist_ok=True)\n",
    "os.makedirs(os.path.join(PROC_DIR, \"fake\"), exist_ok=True)\n",
    "\n",
    "# Copy REAL images\n",
    "for file in os.listdir(real_dir):\n",
    "    src = os.path.join(real_dir, file)\n",
    "    dst = os.path.join(PROC_DIR, \"real\", file)\n",
    "    shutil.copy(src, dst)\n",
    "\n",
    "# Copy FAKE images\n",
    "for folder in fake_dirs:\n",
    "    fpath = os.path.join(RAW_DIR, folder)\n",
    "    for file in os.listdir(fpath):\n",
    "        src = os.path.join(fpath, file)\n",
    "        dst = os.path.join(PROC_DIR, \"fake\", f\"{folder}_{file}\")  # prefix filename\n",
    "        shutil.copy(src, dst)\n",
    "\n",
    "print(\"Real & Fake data grouped into processed/real and processed/fake\")\n"
   ]
  },
  {
   "cell_type": "code",
   "execution_count": null,
   "id": "0188e760",
   "metadata": {},
   "outputs": [],
   "source": []
  }
 ],
 "metadata": {
  "kernelspec": {
   "display_name": ".venv (3.13.1)",
   "language": "python",
   "name": "python3"
  },
  "language_info": {
   "codemirror_mode": {
    "name": "ipython",
    "version": 3
   },
   "file_extension": ".py",
   "mimetype": "text/x-python",
   "name": "python",
   "nbconvert_exporter": "python",
   "pygments_lexer": "ipython3",
   "version": "3.13.1"
  }
 },
 "nbformat": 4,
 "nbformat_minor": 5
}
