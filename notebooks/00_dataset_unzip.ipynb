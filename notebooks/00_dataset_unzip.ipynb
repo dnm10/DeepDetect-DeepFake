{
 "cells": [
  {
   "cell_type": "code",
   "execution_count": 2,
   "id": "2f4c7e34",
   "metadata": {},
   "outputs": [
    {
     "name": "stdout",
     "output_type": "stream",
     "text": [
      "✅ kaggle.json placed successfully!\n"
     ]
    }
   ],
   "source": [
    "import os\n",
    "import shutil\n",
    "\n",
    "project_kaggle = \"../config/kaggle.json\"  # local project copy\n",
    "user_kaggle_dir = os.path.expanduser(\"~/.kaggle\")\n",
    "user_kaggle_file = os.path.join(user_kaggle_dir, \"kaggle.json\")\n",
    "\n",
    "os.makedirs(user_kaggle_dir, exist_ok=True)\n",
    "\n",
    "if os.path.exists(project_kaggle):\n",
    "    shutil.copy(project_kaggle, user_kaggle_file)\n",
    "    os.chmod(user_kaggle_file, 0o600)\n",
    "    print(\"✅ kaggle.json placed successfully!\")\n",
    "else:\n",
    "    print(\"❌ kaggle.json not found\")\n"
   ]
  },
  {
   "cell_type": "code",
   "execution_count": 6,
   "id": "052d35ec",
   "metadata": {},
   "outputs": [
    {
     "name": "stdout",
     "output_type": "stream",
     "text": [
      "✅ Dataset extracted successfully!\n"
     ]
    }
   ],
   "source": [
    "import zipfile, os\n",
    "\n",
    "zip_path = \"../data/raw/ff_c23.zip\"\n",
    "extract_dir = \"../data/raw/images\"\n",
    "\n",
    "os.makedirs(extract_dir, exist_ok=True)\n",
    "\n",
    "with zipfile.ZipFile(zip_path, 'r') as zip_ref:\n",
    "    zip_ref.extractall(extract_dir)\n",
    "\n",
    "print(\"✅ Dataset extracted successfully!\")\n"
   ]
  },
  {
   "cell_type": "code",
   "execution_count": null,
   "id": "86a7cdc5",
   "metadata": {},
   "outputs": [],
   "source": []
  }
 ],
 "metadata": {
  "kernelspec": {
   "display_name": "dd_dfenv (3.12.6)",
   "language": "python",
   "name": "python3"
  },
  "language_info": {
   "codemirror_mode": {
    "name": "ipython",
    "version": 3
   },
   "file_extension": ".py",
   "mimetype": "text/x-python",
   "name": "python",
   "nbconvert_exporter": "python",
   "pygments_lexer": "ipython3",
   "version": "3.12.6"
  }
 },
 "nbformat": 4,
 "nbformat_minor": 5
}
