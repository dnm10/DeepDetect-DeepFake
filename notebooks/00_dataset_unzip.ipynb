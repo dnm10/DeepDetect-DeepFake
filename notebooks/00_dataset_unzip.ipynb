{
 "cells": [
  {
   "cell_type": "code",
   "execution_count": null,
   "id": "2f4c7e34",
   "metadata": {},
   "outputs": [],
   "source": [
    "import os\n",
    "import shutil\n",
    "\n",
    "project_kaggle = \"config/kaggle.json\"  # local project copy\n",
    "user_kaggle_dir = os.path.expanduser(\"~/.kaggle\")\n",
    "user_kaggle_file = os.path.join(user_kaggle_dir, \"kaggle.json\")\n",
    "\n",
    "os.makedirs(user_kaggle_dir, exist_ok=True)\n",
    "\n",
    "if os.path.exists(project_kaggle):\n",
    "    shutil.copy(project_kaggle, user_kaggle_file)\n",
    "    os.chmod(user_kaggle_file, 0o600)\n",
    "    print(\"✅ kaggle.json placed successfully!\")\n",
    "else:\n",
    "    print(\"❌ kaggle.json not found\")\n"
   ]
  }
 ],
 "metadata": {
  "kernelspec": {
   "display_name": "dd_dfenv (3.12.6)",
   "language": "python",
   "name": "python3"
  },
  "language_info": {
   "name": "python",
   "version": "3.12.6"
  }
 },
 "nbformat": 4,
 "nbformat_minor": 5
}
